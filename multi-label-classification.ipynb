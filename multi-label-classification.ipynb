{
 "cells": [
  {
   "cell_type": "markdown",
   "id": "8c54c2a6",
   "metadata": {},
   "source": [
    "# Import libraries"
   ]
  },
  {
   "cell_type": "code",
   "execution_count": 47,
   "id": "afb2bfe8",
   "metadata": {},
   "outputs": [],
   "source": [
    "import pandas as pd \n",
    "from sklearn.feature_extraction.text import TfidfTransformer\n",
    "from sklearn.feature_extraction.text import CountVectorizer\n",
    "\n",
    "from sklearn.feature_extraction.text import TfidfVectorizer\n",
    "\n",
    "from sklearn.model_selection import train_test_split\n",
    "import numpy as np\n",
    "import pickle"
   ]
  },
  {
   "cell_type": "markdown",
   "id": "1cd5d23d",
   "metadata": {},
   "source": [
    "# load dataset"
   ]
  },
  {
   "cell_type": "markdown",
   "id": "a33492ef",
   "metadata": {},
   "source": [
    "load the clean dataset"
   ]
  },
  {
   "cell_type": "code",
   "execution_count": 48,
   "id": "7e43a145",
   "metadata": {},
   "outputs": [],
   "source": [
    "data = './out_clean2.csv'\n",
    "df = pd.read_csv(data, encoding = \"ISO-8859-1\")\n",
    "df = df.drop(\"Unnamed: 0\",axis=1)"
   ]
  },
  {
   "cell_type": "code",
   "execution_count": 69,
   "id": "476ade14",
   "metadata": {},
   "outputs": [
    {
     "data": {
      "text/html": [
       "<div>\n",
       "<style scoped>\n",
       "    .dataframe tbody tr th:only-of-type {\n",
       "        vertical-align: middle;\n",
       "    }\n",
       "\n",
       "    .dataframe tbody tr th {\n",
       "        vertical-align: top;\n",
       "    }\n",
       "\n",
       "    .dataframe thead th {\n",
       "        text-align: right;\n",
       "    }\n",
       "</style>\n",
       "<table border=\"1\" class=\"dataframe\">\n",
       "  <thead>\n",
       "    <tr style=\"text-align: right;\">\n",
       "      <th></th>\n",
       "      <th>Tweet</th>\n",
       "      <th>HS</th>\n",
       "      <th>Abusive</th>\n",
       "      <th>HS_Individual</th>\n",
       "      <th>HS_Group</th>\n",
       "      <th>HS_Religion</th>\n",
       "      <th>HS_Race</th>\n",
       "      <th>HS_Physical</th>\n",
       "      <th>HS_Gender</th>\n",
       "      <th>HS_Other</th>\n",
       "      <th>HS_Weak</th>\n",
       "      <th>HS_Moderate</th>\n",
       "      <th>HS_Strong</th>\n",
       "    </tr>\n",
       "  </thead>\n",
       "  <tbody>\n",
       "    <tr>\n",
       "      <th>0</th>\n",
       "      <td>saat semua cowok usaha lacak perhati gue kamu ...</td>\n",
       "      <td>1</td>\n",
       "      <td>1</td>\n",
       "      <td>1</td>\n",
       "      <td>0</td>\n",
       "      <td>0</td>\n",
       "      <td>0</td>\n",
       "      <td>0</td>\n",
       "      <td>0</td>\n",
       "      <td>1</td>\n",
       "      <td>1</td>\n",
       "      <td>0</td>\n",
       "      <td>0</td>\n",
       "    </tr>\n",
       "    <tr>\n",
       "      <th>1</th>\n",
       "      <td>siapa telat beri tau eluedan sarap gue gaul ci...</td>\n",
       "      <td>0</td>\n",
       "      <td>1</td>\n",
       "      <td>0</td>\n",
       "      <td>0</td>\n",
       "      <td>0</td>\n",
       "      <td>0</td>\n",
       "      <td>0</td>\n",
       "      <td>0</td>\n",
       "      <td>0</td>\n",
       "      <td>0</td>\n",
       "      <td>0</td>\n",
       "      <td>0</td>\n",
       "    </tr>\n",
       "    <tr>\n",
       "      <th>2</th>\n",
       "      <td>kadang aku pikir aku tetap percaya tuhan padah...</td>\n",
       "      <td>0</td>\n",
       "      <td>0</td>\n",
       "      <td>0</td>\n",
       "      <td>0</td>\n",
       "      <td>0</td>\n",
       "      <td>0</td>\n",
       "      <td>0</td>\n",
       "      <td>0</td>\n",
       "      <td>0</td>\n",
       "      <td>0</td>\n",
       "      <td>0</td>\n",
       "      <td>0</td>\n",
       "    </tr>\n",
       "    <tr>\n",
       "      <th>3</th>\n",
       "      <td>aku akunnku tau mata sipit lihat mana aku</td>\n",
       "      <td>0</td>\n",
       "      <td>0</td>\n",
       "      <td>0</td>\n",
       "      <td>0</td>\n",
       "      <td>0</td>\n",
       "      <td>0</td>\n",
       "      <td>0</td>\n",
       "      <td>0</td>\n",
       "      <td>0</td>\n",
       "      <td>0</td>\n",
       "      <td>0</td>\n",
       "      <td>0</td>\n",
       "    </tr>\n",
       "    <tr>\n",
       "      <th>4</th>\n",
       "      <td>kaum cebong kafir lihat dongok awal tambah dun...</td>\n",
       "      <td>1</td>\n",
       "      <td>1</td>\n",
       "      <td>0</td>\n",
       "      <td>1</td>\n",
       "      <td>1</td>\n",
       "      <td>0</td>\n",
       "      <td>0</td>\n",
       "      <td>0</td>\n",
       "      <td>0</td>\n",
       "      <td>0</td>\n",
       "      <td>1</td>\n",
       "      <td>0</td>\n",
       "    </tr>\n",
       "  </tbody>\n",
       "</table>\n",
       "</div>"
      ],
      "text/plain": [
       "                                               Tweet  HS  Abusive  \\\n",
       "0  saat semua cowok usaha lacak perhati gue kamu ...   1        1   \n",
       "1  siapa telat beri tau eluedan sarap gue gaul ci...   0        1   \n",
       "2  kadang aku pikir aku tetap percaya tuhan padah...   0        0   \n",
       "3          aku akunnku tau mata sipit lihat mana aku   0        0   \n",
       "4  kaum cebong kafir lihat dongok awal tambah dun...   1        1   \n",
       "\n",
       "   HS_Individual  HS_Group  HS_Religion  HS_Race  HS_Physical  HS_Gender  \\\n",
       "0              1         0            0        0            0          0   \n",
       "1              0         0            0        0            0          0   \n",
       "2              0         0            0        0            0          0   \n",
       "3              0         0            0        0            0          0   \n",
       "4              0         1            1        0            0          0   \n",
       "\n",
       "   HS_Other  HS_Weak  HS_Moderate  HS_Strong  \n",
       "0         1        1            0          0  \n",
       "1         0        0            0          0  \n",
       "2         0        0            0          0  \n",
       "3         0        0            0          0  \n",
       "4         0        0            1          0  "
      ]
     },
     "execution_count": 69,
     "metadata": {},
     "output_type": "execute_result"
    }
   ],
   "source": [
    "df.head()"
   ]
  },
  {
   "cell_type": "code",
   "execution_count": 21,
   "id": "d07abceb",
   "metadata": {},
   "outputs": [],
   "source": [
    "y_cols = list(df.columns[1:])"
   ]
  },
  {
   "cell_type": "code",
   "execution_count": 22,
   "id": "95b627c8",
   "metadata": {},
   "outputs": [
    {
     "name": "stdout",
     "output_type": "stream",
     "text": [
      "Total class weight:  208.46999999999997 %\n",
      "\n",
      " {'HS': 42.23, 'Abusive': 38.29, 'HS_Individual': 27.15, 'HS_Group': 15.08, 'HS_Religion': 6.02, 'HS_Race': 4.3, 'HS_Physical': 2.45, 'HS_Gender': 2.32, 'HS_Other': 28.4, 'HS_Weak': 25.69, 'HS_Moderate': 12.95, 'HS_Strong': 3.59}\n"
     ]
    }
   ],
   "source": [
    "# Inspect the class balance\n",
    "def get_class_weight(data):\n",
    "    class_weight = {}\n",
    "    for num,col in enumerate(y_cols):\n",
    "        if num not in class_weight:\n",
    "            class_weight[col] = round((data[data[col] == 1][col].sum())/data.shape[0]*100,2)\n",
    "    return class_weight\n",
    "class_weight = get_class_weight(df)\n",
    "print('Total class weight: ', sum(class_weight.values()), '%\\n\\n', class_weight)"
   ]
  },
  {
   "cell_type": "markdown",
   "id": "8ae7d0f7",
   "metadata": {},
   "source": [
    "# Split"
   ]
  },
  {
   "cell_type": "code",
   "execution_count": 23,
   "id": "7da4b3f5",
   "metadata": {},
   "outputs": [],
   "source": [
    "def get_train_test_val(data):\n",
    "    X_data = data['Tweet']\n",
    "    y_data = data[list(data.columns[1:])].values\n",
    "    X_train, X_test, y_train, y_test = train_test_split(X_data, y_data, test_size=0.1, train_size=0.8)\n",
    "\n",
    "    print(\n",
    "        'X_train shape', X_train.shape,\n",
    "        '\\ny_train shape', y_train.shape,\n",
    "        '\\nX_test shape', X_test.shape,\n",
    "        '\\ny_test shape', y_test.shape,\n",
    "\n",
    "    )\n",
    "    return X_train, X_test, y_train , y_test"
   ]
  },
  {
   "cell_type": "markdown",
   "id": "2192756c",
   "metadata": {},
   "source": [
    "divide the data into 4 dataframe\n",
    "- HS Abusive\n",
    "- HS Category Religion etc\n",
    "- HS Target Individual Group\n",
    "- HS Level W M S"
   ]
  },
  {
   "cell_type": "code",
   "execution_count": 24,
   "id": "a548eb00",
   "metadata": {},
   "outputs": [],
   "source": [
    "# HS Abusive\n",
    "df_HS = df[['Tweet', 'HS','Abusive']]"
   ]
  },
  {
   "cell_type": "code",
   "execution_count": 25,
   "id": "10de224b",
   "metadata": {},
   "outputs": [],
   "source": [
    "# HS Category\n",
    "df_HS_cat = df[['Tweet', 'HS_Religion', 'HS_Race', 'HS_Physical', 'HS_Gender', 'HS_Other']]"
   ]
  },
  {
   "cell_type": "code",
   "execution_count": 26,
   "id": "544c7fed",
   "metadata": {},
   "outputs": [],
   "source": [
    "#HS Target\n",
    "df_HS_tar = df[['Tweet', 'HS_Individual' , 'HS_Group']]"
   ]
  },
  {
   "cell_type": "code",
   "execution_count": 27,
   "id": "a8aefb51",
   "metadata": {},
   "outputs": [],
   "source": [
    "# HS Level\n",
    "df_HS_lvl = df[['Tweet', 'HS_Weak', 'HS_Moderate' , 'HS_Strong']]"
   ]
  },
  {
   "cell_type": "markdown",
   "id": "219e8840",
   "metadata": {},
   "source": [
    "## Training"
   ]
  },
  {
   "cell_type": "markdown",
   "id": "632a428c",
   "metadata": {},
   "source": [
    "Based on the paper, the best combination was word unigram feature extraction, random forests classifier and label powerset transformation. I tried to reduplicate the research as attempt to learn about multilabel classification"
   ]
  },
  {
   "cell_type": "markdown",
   "id": "8bf0cf9f",
   "metadata": {},
   "source": [
    "Replace the data in the cells below to train a different dataframe/"
   ]
  },
  {
   "cell_type": "code",
   "execution_count": 28,
   "id": "87f186be",
   "metadata": {},
   "outputs": [],
   "source": [
    "data = df_HS_tar\n",
    "# df_HS, df_HS_cat, df_HS_tar, df_HS_lvl"
   ]
  },
  {
   "cell_type": "code",
   "execution_count": 29,
   "id": "3a6adb71",
   "metadata": {},
   "outputs": [
    {
     "name": "stdout",
     "output_type": "stream",
     "text": [
      "X_train shape (10535,) \n",
      "y_train shape (10535, 2) \n",
      "X_test shape (1317,) \n",
      "y_test shape (1317, 2)\n"
     ]
    }
   ],
   "source": [
    "X_train, X_test, y_train, y_test = get_train_test_val(data)"
   ]
  },
  {
   "cell_type": "markdown",
   "id": "b4eed3bc",
   "metadata": {},
   "source": [
    "initiate feature extractor using tf idf and word n-grams "
   ]
  },
  {
   "cell_type": "code",
   "execution_count": 30,
   "id": "8381c032",
   "metadata": {},
   "outputs": [],
   "source": [
    "tfidf_vectorizer = TfidfVectorizer(ngram_range=(1,3), max_df=0.9, min_df=5)"
   ]
  },
  {
   "cell_type": "code",
   "execution_count": 31,
   "id": "60e04d36",
   "metadata": {},
   "outputs": [],
   "source": [
    "def tfidf_features(X_train, X_test):\n",
    "    \"\"\"\n",
    "        X_train, X_test — samples        \n",
    "        return TF-IDF vectorized representation of each sample and vocabulary\n",
    "    \"\"\"\n",
    "    # Create TF-IDF vectorizer with a proper parameters choice\n",
    "    # Fit the vectorizer on the train set\n",
    "    X_train_tfidf = tfidf_vectorizer.fit_transform(X_train.apply(lambda x: np.str_(x)))\n",
    "    # Transform the train, test set and return the result\n",
    "    X_test_tfidf = tfidf_vectorizer.transform(X_test.apply(lambda x: np.str_(x)))\n",
    "    \n",
    "    return X_train_tfidf, X_test_tfidf, tfidf_vectorizer.vocabulary_"
   ]
  },
  {
   "cell_type": "markdown",
   "id": "a8ab23bc",
   "metadata": {},
   "source": [
    "extract the feature in dataset"
   ]
  },
  {
   "cell_type": "code",
   "execution_count": 32,
   "id": "ef9c8b81",
   "metadata": {},
   "outputs": [],
   "source": [
    "X_train_tfidf, X_test_tfidf, tfidf_vocab = tfidf_features(X_train, X_test)\n",
    "tfidf_reversed_vocab = {i:word for word,i in tfidf_vocab.items()}"
   ]
  },
  {
   "cell_type": "markdown",
   "id": "7dbad8dd",
   "metadata": {},
   "source": [
    "do the training using label powerset data transformation method and random forest classifier"
   ]
  },
  {
   "cell_type": "code",
   "execution_count": 33,
   "id": "300f0114",
   "metadata": {},
   "outputs": [
    {
     "data": {
      "text/html": [
       "<style>#sk-container-id-1 {color: black;background-color: white;}#sk-container-id-1 pre{padding: 0;}#sk-container-id-1 div.sk-toggleable {background-color: white;}#sk-container-id-1 label.sk-toggleable__label {cursor: pointer;display: block;width: 100%;margin-bottom: 0;padding: 0.3em;box-sizing: border-box;text-align: center;}#sk-container-id-1 label.sk-toggleable__label-arrow:before {content: \"▸\";float: left;margin-right: 0.25em;color: #696969;}#sk-container-id-1 label.sk-toggleable__label-arrow:hover:before {color: black;}#sk-container-id-1 div.sk-estimator:hover label.sk-toggleable__label-arrow:before {color: black;}#sk-container-id-1 div.sk-toggleable__content {max-height: 0;max-width: 0;overflow: hidden;text-align: left;background-color: #f0f8ff;}#sk-container-id-1 div.sk-toggleable__content pre {margin: 0.2em;color: black;border-radius: 0.25em;background-color: #f0f8ff;}#sk-container-id-1 input.sk-toggleable__control:checked~div.sk-toggleable__content {max-height: 200px;max-width: 100%;overflow: auto;}#sk-container-id-1 input.sk-toggleable__control:checked~label.sk-toggleable__label-arrow:before {content: \"▾\";}#sk-container-id-1 div.sk-estimator input.sk-toggleable__control:checked~label.sk-toggleable__label {background-color: #d4ebff;}#sk-container-id-1 div.sk-label input.sk-toggleable__control:checked~label.sk-toggleable__label {background-color: #d4ebff;}#sk-container-id-1 input.sk-hidden--visually {border: 0;clip: rect(1px 1px 1px 1px);clip: rect(1px, 1px, 1px, 1px);height: 1px;margin: -1px;overflow: hidden;padding: 0;position: absolute;width: 1px;}#sk-container-id-1 div.sk-estimator {font-family: monospace;background-color: #f0f8ff;border: 1px dotted black;border-radius: 0.25em;box-sizing: border-box;margin-bottom: 0.5em;}#sk-container-id-1 div.sk-estimator:hover {background-color: #d4ebff;}#sk-container-id-1 div.sk-parallel-item::after {content: \"\";width: 100%;border-bottom: 1px solid gray;flex-grow: 1;}#sk-container-id-1 div.sk-label:hover label.sk-toggleable__label {background-color: #d4ebff;}#sk-container-id-1 div.sk-serial::before {content: \"\";position: absolute;border-left: 1px solid gray;box-sizing: border-box;top: 0;bottom: 0;left: 50%;z-index: 0;}#sk-container-id-1 div.sk-serial {display: flex;flex-direction: column;align-items: center;background-color: white;padding-right: 0.2em;padding-left: 0.2em;position: relative;}#sk-container-id-1 div.sk-item {position: relative;z-index: 1;}#sk-container-id-1 div.sk-parallel {display: flex;align-items: stretch;justify-content: center;background-color: white;position: relative;}#sk-container-id-1 div.sk-item::before, #sk-container-id-1 div.sk-parallel-item::before {content: \"\";position: absolute;border-left: 1px solid gray;box-sizing: border-box;top: 0;bottom: 0;left: 50%;z-index: -1;}#sk-container-id-1 div.sk-parallel-item {display: flex;flex-direction: column;z-index: 1;position: relative;background-color: white;}#sk-container-id-1 div.sk-parallel-item:first-child::after {align-self: flex-end;width: 50%;}#sk-container-id-1 div.sk-parallel-item:last-child::after {align-self: flex-start;width: 50%;}#sk-container-id-1 div.sk-parallel-item:only-child::after {width: 0;}#sk-container-id-1 div.sk-dashed-wrapped {border: 1px dashed gray;margin: 0 0.4em 0.5em 0.4em;box-sizing: border-box;padding-bottom: 0.4em;background-color: white;}#sk-container-id-1 div.sk-label label {font-family: monospace;font-weight: bold;display: inline-block;line-height: 1.2em;}#sk-container-id-1 div.sk-label-container {text-align: center;}#sk-container-id-1 div.sk-container {/* jupyter's `normalize.less` sets `[hidden] { display: none; }` but bootstrap.min.css set `[hidden] { display: none !important; }` so we also need the `!important` here to be able to override the default hidden behavior on the sphinx rendered scikit-learn.org. See: https://github.com/scikit-learn/scikit-learn/issues/21755 */display: inline-block !important;position: relative;}#sk-container-id-1 div.sk-text-repr-fallback {display: none;}</style><div id=\"sk-container-id-1\" class=\"sk-top-container\"><div class=\"sk-text-repr-fallback\"><pre>LabelPowerset(classifier=RandomForestClassifier(), require_dense=[False, True])</pre><b>In a Jupyter environment, please rerun this cell to show the HTML representation or trust the notebook. <br />On GitHub, the HTML representation is unable to render, please try loading this page with nbviewer.org.</b></div><div class=\"sk-container\" hidden><div class=\"sk-item sk-dashed-wrapped\"><div class=\"sk-label-container\"><div class=\"sk-label sk-toggleable\"><input class=\"sk-toggleable__control sk-hidden--visually\" id=\"sk-estimator-id-1\" type=\"checkbox\" ><label for=\"sk-estimator-id-1\" class=\"sk-toggleable__label sk-toggleable__label-arrow\">LabelPowerset</label><div class=\"sk-toggleable__content\"><pre>LabelPowerset(classifier=RandomForestClassifier(), require_dense=[False, True])</pre></div></div></div><div class=\"sk-parallel\"><div class=\"sk-parallel-item\"><div class=\"sk-item\"><div class=\"sk-label-container\"><div class=\"sk-label sk-toggleable\"><input class=\"sk-toggleable__control sk-hidden--visually\" id=\"sk-estimator-id-2\" type=\"checkbox\" ><label for=\"sk-estimator-id-2\" class=\"sk-toggleable__label sk-toggleable__label-arrow\">classifier: RandomForestClassifier</label><div class=\"sk-toggleable__content\"><pre>RandomForestClassifier()</pre></div></div></div><div class=\"sk-serial\"><div class=\"sk-item\"><div class=\"sk-estimator sk-toggleable\"><input class=\"sk-toggleable__control sk-hidden--visually\" id=\"sk-estimator-id-3\" type=\"checkbox\" ><label for=\"sk-estimator-id-3\" class=\"sk-toggleable__label sk-toggleable__label-arrow\">RandomForestClassifier</label><div class=\"sk-toggleable__content\"><pre>RandomForestClassifier()</pre></div></div></div></div></div></div></div></div></div></div>"
      ],
      "text/plain": [
       "LabelPowerset(classifier=RandomForestClassifier(), require_dense=[False, True])"
      ]
     },
     "execution_count": 33,
     "metadata": {},
     "output_type": "execute_result"
    }
   ],
   "source": [
    "from skmultilearn.problem_transform import LabelPowerset\n",
    "from sklearn.ensemble import RandomForestClassifier\n",
    "\n",
    "classifier = LabelPowerset(\n",
    "    classifier = RandomForestClassifier(),\n",
    "    require_dense = [False, True]\n",
    ")\n",
    "\n",
    "classifier.fit(X_train_tfidf, y_train)"
   ]
  },
  {
   "cell_type": "code",
   "execution_count": 34,
   "id": "6551d719",
   "metadata": {},
   "outputs": [],
   "source": [
    "y_hat=classifier.predict(X_test_tfidf)"
   ]
  },
  {
   "cell_type": "markdown",
   "id": "86d3dbb1",
   "metadata": {},
   "source": [
    "see the training results by viewing its F1-score"
   ]
  },
  {
   "cell_type": "code",
   "execution_count": 35,
   "id": "48195718",
   "metadata": {},
   "outputs": [],
   "source": [
    "import sklearn.metrics as metrics"
   ]
  },
  {
   "cell_type": "code",
   "execution_count": 36,
   "id": "4b741780",
   "metadata": {},
   "outputs": [
    {
     "name": "stdout",
     "output_type": "stream",
     "text": [
      "Label Powerset F1-score: 0.63\n"
     ]
    }
   ],
   "source": [
    "lp_f1=metrics.f1_score(y_test, y_hat, average='micro')\n",
    "lp_hamm=metrics.hamming_loss(y_test,y_hat)\n",
    "print('Label Powerset F1-score:',round(lp_f1,3))"
   ]
  },
  {
   "cell_type": "code",
   "execution_count": 37,
   "id": "c20ddce4",
   "metadata": {},
   "outputs": [],
   "source": [
    "res = tfidf_vectorizer.transform(['bani cebong'])"
   ]
  },
  {
   "cell_type": "code",
   "execution_count": 38,
   "id": "463c6c87",
   "metadata": {},
   "outputs": [],
   "source": [
    "output = classifier.predict_proba(res)\n",
    "output2 = classifier.predict(res)"
   ]
  },
  {
   "cell_type": "code",
   "execution_count": 39,
   "id": "fde8d601",
   "metadata": {},
   "outputs": [
    {
     "name": "stdout",
     "output_type": "stream",
     "text": [
      "[0.1        0.82666667]\n"
     ]
    }
   ],
   "source": [
    "print(output.toarray()[0])"
   ]
  },
  {
   "cell_type": "code",
   "execution_count": 40,
   "id": "5578d6a3",
   "metadata": {},
   "outputs": [
    {
     "name": "stdout",
     "output_type": "stream",
     "text": [
      "[[0 1]]\n"
     ]
    }
   ],
   "source": [
    "print(output2.toarray())"
   ]
  },
  {
   "cell_type": "markdown",
   "id": "310d874a",
   "metadata": {},
   "source": [
    "## Save the model and vectorizer"
   ]
  },
  {
   "cell_type": "code",
   "execution_count": 41,
   "id": "5977c85b",
   "metadata": {},
   "outputs": [],
   "source": [
    "import dill as pickle"
   ]
  },
  {
   "cell_type": "markdown",
   "id": "62352605",
   "metadata": {},
   "source": [
    "Just need to change the name each save"
   ]
  },
  {
   "cell_type": "code",
   "execution_count": 42,
   "id": "29e35c73",
   "metadata": {},
   "outputs": [],
   "source": [
    "#save model\n",
    "with open('model_Target.sav', 'wb') as fin:\n",
    "    pickle.dump(classifier, fin)\n",
    "\n",
    "pickle.dump(tfidf_vectorizer, open(\"vec_target.pickle\", \"wb\")) #//Save vectorizer"
   ]
  },
  {
   "cell_type": "markdown",
   "id": "a2180e03",
   "metadata": {},
   "source": [
    "# Predict"
   ]
  },
  {
   "cell_type": "code",
   "execution_count": 1,
   "id": "20aaf05c",
   "metadata": {},
   "outputs": [],
   "source": [
    "import dill as pickle"
   ]
  },
  {
   "cell_type": "code",
   "execution_count": 2,
   "id": "86cad6a1",
   "metadata": {},
   "outputs": [],
   "source": [
    "text = 'dasar goblok'"
   ]
  },
  {
   "cell_type": "markdown",
   "id": "f45355d7",
   "metadata": {},
   "source": [
    "## HS Abusive"
   ]
  },
  {
   "cell_type": "code",
   "execution_count": 3,
   "id": "7a156c3b",
   "metadata": {},
   "outputs": [],
   "source": [
    "tfidf_vectorizer = pickle.load(open('vec_abusive.pickle', 'rb'))"
   ]
  },
  {
   "cell_type": "code",
   "execution_count": 4,
   "id": "2ca76b84",
   "metadata": {},
   "outputs": [],
   "source": [
    "res = tfidf_vectorizer.transform([text])"
   ]
  },
  {
   "cell_type": "code",
   "execution_count": 5,
   "id": "811b0b28",
   "metadata": {},
   "outputs": [],
   "source": [
    "model = pickle.load(open('model_abusive.sav', 'rb'))"
   ]
  },
  {
   "cell_type": "code",
   "execution_count": 35,
   "id": "d9620f65",
   "metadata": {},
   "outputs": [],
   "source": [
    "def predict_abusive(model, vec):\n",
    "    output = model.predict_proba(vec)\n",
    "    hs = output.toarray()[0][0]\n",
    "    ab = output.toarray()[0][1]\n",
    "    print('Hate Speech: ', hs)\n",
    "    print('Abusive: ', ab)"
   ]
  },
  {
   "cell_type": "code",
   "execution_count": null,
   "id": "78bddd9c",
   "metadata": {},
   "outputs": [],
   "source": [
    "predict_abusive(model, res)"
   ]
  },
  {
   "cell_type": "markdown",
   "id": "336f815b",
   "metadata": {},
   "source": [
    "## HS Category"
   ]
  },
  {
   "cell_type": "code",
   "execution_count": 7,
   "id": "597c364e",
   "metadata": {},
   "outputs": [],
   "source": [
    "tfidf_vectorizer = pickle.load(open('vec_Category.pickle', 'rb'))"
   ]
  },
  {
   "cell_type": "code",
   "execution_count": 8,
   "id": "b82fb23a",
   "metadata": {},
   "outputs": [],
   "source": [
    "res = tfidf_vectorizer.transform([text])"
   ]
  },
  {
   "cell_type": "code",
   "execution_count": 9,
   "id": "fc1cd1eb",
   "metadata": {},
   "outputs": [],
   "source": [
    "model = pickle.load(open('model_Category.sav', 'rb'))"
   ]
  },
  {
   "cell_type": "code",
   "execution_count": 34,
   "id": "6e42b8f4",
   "metadata": {},
   "outputs": [],
   "source": [
    "def predict_category(model, vec):\n",
    "    output = model.predict_proba(vec)\n",
    "    religion = output.toarray()[0][0]\n",
    "    race = output.toarray()[0][1]\n",
    "    physical = output.toarray()[0][2]\n",
    "    gender = output.toarray()[0][3]\n",
    "    other = output.toarray()[0][4]\n",
    "    print('Religion: ', religion)\n",
    "    print('Race: ', race)\n",
    "    print('Physical: ', physical)\n",
    "    print('Gender: ', gender)\n",
    "    print('Other: ', other)"
   ]
  },
  {
   "cell_type": "code",
   "execution_count": null,
   "id": "a7a772aa",
   "metadata": {},
   "outputs": [],
   "source": [
    "predict_category(model, res)"
   ]
  },
  {
   "cell_type": "markdown",
   "id": "59edc49f",
   "metadata": {},
   "source": [
    "## HS Target"
   ]
  },
  {
   "cell_type": "code",
   "execution_count": 11,
   "id": "7655b6ae",
   "metadata": {},
   "outputs": [],
   "source": [
    "tfidf_vectorizer = pickle.load(open('vec_target.pickle', 'rb'))"
   ]
  },
  {
   "cell_type": "code",
   "execution_count": 12,
   "id": "b0e551fb",
   "metadata": {},
   "outputs": [],
   "source": [
    "res = tfidf_vectorizer.transform([text])"
   ]
  },
  {
   "cell_type": "code",
   "execution_count": 13,
   "id": "8e692e66",
   "metadata": {},
   "outputs": [],
   "source": [
    "model = pickle.load(open('model_Target.sav', 'rb'))"
   ]
  },
  {
   "cell_type": "code",
   "execution_count": 33,
   "id": "36d03f05",
   "metadata": {},
   "outputs": [],
   "source": [
    "def predict_target(model, vec):\n",
    "    output = model.predict_proba(vec)\n",
    "    ind = output.toarray()[0][0]\n",
    "    gr = output.toarray()[0][1]\n",
    "    print('Individual: ', ind)\n",
    "    print('Group: ', gr)"
   ]
  },
  {
   "cell_type": "code",
   "execution_count": null,
   "id": "631e9870",
   "metadata": {},
   "outputs": [],
   "source": [
    "predict_target(model, res)"
   ]
  },
  {
   "cell_type": "markdown",
   "id": "919961c1",
   "metadata": {},
   "source": [
    "## HS Level"
   ]
  },
  {
   "cell_type": "code",
   "execution_count": 15,
   "id": "0370ee4e",
   "metadata": {},
   "outputs": [],
   "source": [
    "tfidf_vectorizer = pickle.load(open('vec_level.pickle', 'rb'))"
   ]
  },
  {
   "cell_type": "code",
   "execution_count": 16,
   "id": "c5bc6c64",
   "metadata": {},
   "outputs": [],
   "source": [
    "res = tfidf_vectorizer.transform([text])"
   ]
  },
  {
   "cell_type": "code",
   "execution_count": 17,
   "id": "55e9f630",
   "metadata": {},
   "outputs": [],
   "source": [
    "model = pickle.load(open('model_Level.sav', 'rb'))"
   ]
  },
  {
   "cell_type": "code",
   "execution_count": 32,
   "id": "b317bbf5",
   "metadata": {},
   "outputs": [],
   "source": [
    "def predict_level(model, vec):\n",
    "    output = model.predict_proba(vec)\n",
    "    weak = output.toarray()[0][0]\n",
    "    moderate = output.toarray()[0][1]\n",
    "    strong = output.toarray()[0][2]\n",
    "    print('Weak: ', weak)\n",
    "    print('Moderate: ', moderate)\n",
    "    print('Strong: ', strong)"
   ]
  },
  {
   "cell_type": "code",
   "execution_count": 19,
   "id": "ae8c00f6",
   "metadata": {},
   "outputs": [
    {
     "name": "stdout",
     "output_type": "stream",
     "text": [
      "Weak:  0.73\n",
      "Moderate:  0.15\n",
      "Strong:  0.0\n"
     ]
    }
   ],
   "source": [
    "predict_level(model, res)"
   ]
  },
  {
   "cell_type": "markdown",
   "id": "8c85af26",
   "metadata": {},
   "source": [
    "# Combined"
   ]
  },
  {
   "cell_type": "code",
   "execution_count": 26,
   "id": "f14c5f35",
   "metadata": {},
   "outputs": [],
   "source": [
    "modelA = pickle.load(open('model_abusive.sav', 'rb'))\n",
    "modelC = pickle.load(open('model_Category.sav', 'rb'))\n",
    "modelT = pickle.load(open('model_Target.sav', 'rb'))\n",
    "modelL = pickle.load(open('model_Level.sav', 'rb'))"
   ]
  },
  {
   "cell_type": "code",
   "execution_count": 28,
   "id": "52baecfe",
   "metadata": {},
   "outputs": [],
   "source": [
    "vecA = pickle.load(open('vec_abusive.pickle', 'rb'))\n",
    "vecC = pickle.load(open('vec_Category.pickle', 'rb'))\n",
    "vecT = pickle.load(open('vec_Target.pickle', 'rb'))\n",
    "vecL = pickle.load(open('vec_Level.pickle', 'rb'))"
   ]
  },
  {
   "cell_type": "code",
   "execution_count": 41,
   "id": "88103852",
   "metadata": {},
   "outputs": [],
   "source": [
    "def predictAll(text):\n",
    "    resA = vecA.transform([text])\n",
    "    resC = vecC.transform([text])\n",
    "    resT = vecT.transform([text])\n",
    "    resL = vecL.transform([text])\n",
    "    predict_abusive(modelA, resA)\n",
    "    predict_category(modelC, resC)\n",
    "    predict_target(modelT, resT)\n",
    "    predict_level(modelL, resL)"
   ]
  },
  {
   "cell_type": "code",
   "execution_count": 67,
   "id": "e6f10ffc",
   "metadata": {},
   "outputs": [],
   "source": [
    "text = 'dasar cina bodoh'"
   ]
  },
  {
   "cell_type": "code",
   "execution_count": 68,
   "id": "77ac31f3",
   "metadata": {},
   "outputs": [
    {
     "name": "stdout",
     "output_type": "stream",
     "text": [
      "Hate Speech:  0.5725\n",
      "Abusive:  0.6599999999999999\n",
      "Religion:  0.05\n",
      "Race:  0.48\n",
      "Physical:  0.0\n",
      "Gender:  0.05\n",
      "Other:  0.19\n",
      "Individual:  0.7\n",
      "Group:  0.08\n",
      "Weak:  0.616\n",
      "Moderate:  0.1\n",
      "Strong:  0.02\n"
     ]
    }
   ],
   "source": [
    "predictAll(text)"
   ]
  },
  {
   "cell_type": "code",
   "execution_count": null,
   "id": "00e85834",
   "metadata": {},
   "outputs": [],
   "source": []
  }
 ],
 "metadata": {
  "kernelspec": {
   "display_name": "Python 3 (ipykernel)",
   "language": "python",
   "name": "python3"
  },
  "language_info": {
   "codemirror_mode": {
    "name": "ipython",
    "version": 3
   },
   "file_extension": ".py",
   "mimetype": "text/x-python",
   "name": "python",
   "nbconvert_exporter": "python",
   "pygments_lexer": "ipython3",
   "version": "3.8.13"
  }
 },
 "nbformat": 4,
 "nbformat_minor": 5
}
